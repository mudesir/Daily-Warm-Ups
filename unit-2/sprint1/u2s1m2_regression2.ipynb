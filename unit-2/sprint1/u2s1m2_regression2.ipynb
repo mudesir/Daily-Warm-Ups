{
  "nbformat": 4,
  "nbformat_minor": 0,
  "metadata": {
    "colab": {
      "name": "u2s1m2-regression2.ipynb",
      "provenance": []
    },
    "kernelspec": {
      "name": "python3",
      "display_name": "Python 3"
    }
  },
  "cells": [
    {
      "cell_type": "markdown",
      "metadata": {
        "id": "JPx59L4-1qe2",
        "colab_type": "text"
      },
      "source": [
        "<!--\n",
        "Author: Brian Thomas Ross\n",
        "License: BSD-3-Clause\n",
        "-->\n",
        "<u>U2S1M2 WARM UP</u>\n",
        "=====================\n",
        "\n",
        "Welcome to Unit 2 Predictive modeling, partner up in your TL groups. When you've assembled in your zoom calls be sure to pull the changes to the `Daily-Warm-Ups` repo to your fork. Work together to complete the warm up assignment."
      ]
    },
    {
      "cell_type": "markdown",
      "metadata": {
        "id": "oHgmKN5m4v2_",
        "colab_type": "text"
      },
      "source": [
        "## <u>Define the following terms:</u>"
      ]
    },
    {
      "cell_type": "markdown",
      "metadata": {
        "id": "mj9ZhwyG5ip8",
        "colab_type": "text"
      },
      "source": [
        "---"
      ]
    },
    {
      "cell_type": "markdown",
      "metadata": {
        "id": "K31ksGsNPv1k",
        "colab_type": "text"
      },
      "source": [
        "### Supervised Learning"
      ]
    },
    {
      "cell_type": "markdown",
      "metadata": {
        "id": "kwyAC046Pvt6",
        "colab_type": "text"
      },
      "source": [
        "Supervised learning refers to a class of systems and algorithms that determine a predictive model using data points with known outcomes.  The model is learned by training through an appropriate learning algorithm (such as linear regression, random forests, or neural networks) that typically works through some optimization routine to minimize a loss or error function."
      ]
    },
    {
      "cell_type": "markdown",
      "metadata": {
        "id": "EhMzMBXDP3WU",
        "colab_type": "text"
      },
      "source": [
        "### Regression"
      ]
    },
    {
      "cell_type": "markdown",
      "metadata": {
        "id": "qHwhZBV4P6Z_",
        "colab_type": "text"
      },
      "source": [
        "Regression is a statistical method that attempts to determine the strength and character of the relationship between one dependent variable (usually denoted by Y) and a series of other variables (known as independent variables).\n",
        "\n"
      ]
    },
    {
      "cell_type": "markdown",
      "metadata": {
        "id": "KWz1Vkz3P6QM",
        "colab_type": "text"
      },
      "source": [
        "### Classification"
      ]
    },
    {
      "cell_type": "markdown",
      "metadata": {
        "id": "UpsrFjJXP3RJ",
        "colab_type": "text"
      },
      "source": [
        "Classification is a process related to categorization, the process in which ideas and objects are recognized, differentiated, and understood"
      ]
    },
    {
      "cell_type": "markdown",
      "metadata": {
        "id": "CiB71XgJ41mp",
        "colab_type": "text"
      },
      "source": [
        "### Heuristic"
      ]
    },
    {
      "cell_type": "markdown",
      "metadata": {
        "id": "E5MDlDl15Vgd",
        "colab_type": "text"
      },
      "source": [
        "Heuristic is a technique designed for solving a problem more quickly when classic methods are too slow, or for finding an approximate solution when classic methods fail to find any exact solution.\n",
        "Heuristics are \"rules of thumb\" that people use to make decisions and judgments."
      ]
    },
    {
      "cell_type": "markdown",
      "metadata": {
        "id": "dvchIjqN4_IS",
        "colab_type": "text"
      },
      "source": [
        "### Descriptive Statistics"
      ]
    },
    {
      "cell_type": "markdown",
      "metadata": {
        "id": "ESqzrPU75SNj",
        "colab_type": "text"
      },
      "source": [
        "Descriptive Statistics is summarizing the data at hand through certain numbers like mean, median etc. so as to make the understanding of the data easier. It does not involve any generalization or inference beyond what is available"
      ]
    },
    {
      "cell_type": "markdown",
      "metadata": {
        "id": "BbVaOvne5gjo",
        "colab_type": "text"
      },
      "source": [
        "----"
      ]
    },
    {
      "cell_type": "markdown",
      "metadata": {
        "id": "vwQCDi6YSAFs",
        "colab_type": "text"
      },
      "source": [
        "### What should you always begin with when constructing a predictive model?"
      ]
    },
    {
      "cell_type": "markdown",
      "metadata": {
        "id": "CHRgnzWiOwZw",
        "colab_type": "text"
      },
      "source": [
        "A mean baseline estimate to make quick estimate using some descrption statistics methods"
      ]
    },
    {
      "cell_type": "markdown",
      "metadata": {
        "id": "CgurqKh0Ow7a",
        "colab_type": "text"
      },
      "source": [
        "### How should one interpret the coefficients in a linear regression model?"
      ]
    },
    {
      "cell_type": "markdown",
      "metadata": {
        "id": "ibgJsT1bPKuN",
        "colab_type": "text"
      },
      "source": [
        "It is a slope of the equation or a regression coefficient which show the relation between the two variable"
      ]
    },
    {
      "cell_type": "markdown",
      "metadata": {
        "id": "mLf3WiLlPLI9",
        "colab_type": "text"
      },
      "source": [
        "----"
      ]
    },
    {
      "cell_type": "markdown",
      "metadata": {
        "id": "zIukuGLmPcet",
        "colab_type": "text"
      },
      "source": [
        "### Read [this article](https://towardsdatascience.com/scikit-learn-design-principles-d1371958059b) which gives a brief overview of the design principles employed in sklearn."
      ]
    },
    {
      "cell_type": "markdown",
      "metadata": {
        "id": "4czQ8U5OYvcL",
        "colab_type": "text"
      },
      "source": [
        "The Scikit-Learn library is a reminder of the power of design patterns in software design. The seminal work on design patterns — Design Patterns: Elements of Reusable Object-Oriented Software — advocates the “importance of programming to an interface, not an implementation.” Scikit-Learn hides tremendous complexity behind its very semantically straightforward interfaces. Put another way, the library is extremely easy to use “out of the box”. Of course, understanding the specifics of machine learning algorithms is important, and successful Scikit-Learn models need to be tuned properly to yield good predictions; but even the default hyper-parameters will often yield reasonable results. "
      ]
    },
    {
      "cell_type": "markdown",
      "metadata": {
        "id": "LOjT29cVSFyN",
        "colab_type": "text"
      },
      "source": [
        "----"
      ]
    },
    {
      "cell_type": "markdown",
      "metadata": {
        "id": "OcbgiLUX5dJ4",
        "colab_type": "text"
      },
      "source": [
        "## <u>Code</u>\n",
        "\n",
        "Use the rest of the time before lecture to explore and familiarize yourself with the following dataset using the techniques you learned during Unit 1"
      ]
    },
    {
      "cell_type": "code",
      "metadata": {
        "id": "Avi8Bnaw5fNA",
        "colab_type": "code",
        "colab": {}
      },
      "source": [
        "import sys\n",
        "\n",
        "# If you're on Colab:\n",
        "if 'google.colab' in sys.modules:\n",
        "    DATA_PATH = 'https://raw.githubusercontent.com/LambdaSchool/DS-Unit-2-Applied-Modeling/master/data/'\n",
        "\n",
        "# If you're working locally:\n",
        "else:\n",
        "    DATA_PATH = '../data/'\n",
        "    \n",
        "# Ignore this Numpy warning when using Plotly Express:\n",
        "# FutureWarning: Method .ptp is deprecated and will be removed in a future version. Use numpy.ptp instead.\n",
        "import warnings\n",
        "warnings.filterwarnings(action='ignore', category=FutureWarning, module='numpy')"
      ],
      "execution_count": 1,
      "outputs": []
    },
    {
      "cell_type": "code",
      "metadata": {
        "id": "JUrvqqS96Cvp",
        "colab_type": "code",
        "colab": {
          "base_uri": "https://localhost:8080/",
          "height": 587
        },
        "outputId": "007d9ca6-ad57-427d-bc5c-7b0f3d2b9374"
      },
      "source": [
        "import pandas as pd\n",
        "df = pd.read_csv(DATA_PATH+'elections/bread_peace_voting.csv')\n",
        "df"
      ],
      "execution_count": 2,
      "outputs": [
        {
          "output_type": "execute_result",
          "data": {
            "text/html": [
              "<div>\n",
              "<style scoped>\n",
              "    .dataframe tbody tr th:only-of-type {\n",
              "        vertical-align: middle;\n",
              "    }\n",
              "\n",
              "    .dataframe tbody tr th {\n",
              "        vertical-align: top;\n",
              "    }\n",
              "\n",
              "    .dataframe thead th {\n",
              "        text-align: right;\n",
              "    }\n",
              "</style>\n",
              "<table border=\"1\" class=\"dataframe\">\n",
              "  <thead>\n",
              "    <tr style=\"text-align: right;\">\n",
              "      <th></th>\n",
              "      <th>Year</th>\n",
              "      <th>Incumbent Party Candidate</th>\n",
              "      <th>Other Candidate</th>\n",
              "      <th>Average Recent Growth in Personal Incomes</th>\n",
              "      <th>US Military Fatalities per Million</th>\n",
              "      <th>Incumbent Party Vote Share</th>\n",
              "    </tr>\n",
              "  </thead>\n",
              "  <tbody>\n",
              "    <tr>\n",
              "      <th>0</th>\n",
              "      <td>1952</td>\n",
              "      <td>Stevenson</td>\n",
              "      <td>Eisenhower</td>\n",
              "      <td>2.40</td>\n",
              "      <td>190</td>\n",
              "      <td>44.60</td>\n",
              "    </tr>\n",
              "    <tr>\n",
              "      <th>1</th>\n",
              "      <td>1956</td>\n",
              "      <td>Eisenhower</td>\n",
              "      <td>Stevenson</td>\n",
              "      <td>2.89</td>\n",
              "      <td>0</td>\n",
              "      <td>57.76</td>\n",
              "    </tr>\n",
              "    <tr>\n",
              "      <th>2</th>\n",
              "      <td>1960</td>\n",
              "      <td>Nixon</td>\n",
              "      <td>Kennedy</td>\n",
              "      <td>0.85</td>\n",
              "      <td>0</td>\n",
              "      <td>49.91</td>\n",
              "    </tr>\n",
              "    <tr>\n",
              "      <th>3</th>\n",
              "      <td>1964</td>\n",
              "      <td>Johnson</td>\n",
              "      <td>Goldwater</td>\n",
              "      <td>4.21</td>\n",
              "      <td>1</td>\n",
              "      <td>61.34</td>\n",
              "    </tr>\n",
              "    <tr>\n",
              "      <th>4</th>\n",
              "      <td>1968</td>\n",
              "      <td>Humphrey</td>\n",
              "      <td>Nixon</td>\n",
              "      <td>3.02</td>\n",
              "      <td>146</td>\n",
              "      <td>49.60</td>\n",
              "    </tr>\n",
              "    <tr>\n",
              "      <th>5</th>\n",
              "      <td>1972</td>\n",
              "      <td>Nixon</td>\n",
              "      <td>McGovern</td>\n",
              "      <td>3.62</td>\n",
              "      <td>0</td>\n",
              "      <td>61.79</td>\n",
              "    </tr>\n",
              "    <tr>\n",
              "      <th>6</th>\n",
              "      <td>1976</td>\n",
              "      <td>Ford</td>\n",
              "      <td>Carter</td>\n",
              "      <td>1.08</td>\n",
              "      <td>2</td>\n",
              "      <td>48.95</td>\n",
              "    </tr>\n",
              "    <tr>\n",
              "      <th>7</th>\n",
              "      <td>1980</td>\n",
              "      <td>Carter</td>\n",
              "      <td>Reagan</td>\n",
              "      <td>-0.39</td>\n",
              "      <td>0</td>\n",
              "      <td>44.70</td>\n",
              "    </tr>\n",
              "    <tr>\n",
              "      <th>8</th>\n",
              "      <td>1984</td>\n",
              "      <td>Reagan</td>\n",
              "      <td>Mondale</td>\n",
              "      <td>3.86</td>\n",
              "      <td>0</td>\n",
              "      <td>59.17</td>\n",
              "    </tr>\n",
              "    <tr>\n",
              "      <th>9</th>\n",
              "      <td>1988</td>\n",
              "      <td>Bush, Sr.</td>\n",
              "      <td>Dukakis</td>\n",
              "      <td>2.27</td>\n",
              "      <td>0</td>\n",
              "      <td>53.94</td>\n",
              "    </tr>\n",
              "    <tr>\n",
              "      <th>10</th>\n",
              "      <td>1992</td>\n",
              "      <td>Bush, Sr.</td>\n",
              "      <td>Clinton</td>\n",
              "      <td>0.38</td>\n",
              "      <td>0</td>\n",
              "      <td>46.55</td>\n",
              "    </tr>\n",
              "    <tr>\n",
              "      <th>11</th>\n",
              "      <td>1996</td>\n",
              "      <td>Clinton</td>\n",
              "      <td>Dole</td>\n",
              "      <td>1.04</td>\n",
              "      <td>0</td>\n",
              "      <td>54.74</td>\n",
              "    </tr>\n",
              "    <tr>\n",
              "      <th>12</th>\n",
              "      <td>2000</td>\n",
              "      <td>Gore</td>\n",
              "      <td>Bush, Jr.</td>\n",
              "      <td>2.36</td>\n",
              "      <td>0</td>\n",
              "      <td>50.27</td>\n",
              "    </tr>\n",
              "    <tr>\n",
              "      <th>13</th>\n",
              "      <td>2004</td>\n",
              "      <td>Bush, Jr.</td>\n",
              "      <td>Kerry</td>\n",
              "      <td>1.72</td>\n",
              "      <td>4</td>\n",
              "      <td>51.24</td>\n",
              "    </tr>\n",
              "    <tr>\n",
              "      <th>14</th>\n",
              "      <td>2008</td>\n",
              "      <td>McCain</td>\n",
              "      <td>Obama</td>\n",
              "      <td>0.10</td>\n",
              "      <td>14</td>\n",
              "      <td>46.32</td>\n",
              "    </tr>\n",
              "    <tr>\n",
              "      <th>15</th>\n",
              "      <td>2012</td>\n",
              "      <td>Obama</td>\n",
              "      <td>Romney</td>\n",
              "      <td>0.95</td>\n",
              "      <td>5</td>\n",
              "      <td>52.00</td>\n",
              "    </tr>\n",
              "    <tr>\n",
              "      <th>16</th>\n",
              "      <td>2016</td>\n",
              "      <td>Clinton</td>\n",
              "      <td>Trump</td>\n",
              "      <td>0.10</td>\n",
              "      <td>5</td>\n",
              "      <td>48.20</td>\n",
              "    </tr>\n",
              "  </tbody>\n",
              "</table>\n",
              "</div>"
            ],
            "text/plain": [
              "    Year  ... Incumbent Party Vote Share\n",
              "0   1952  ...                      44.60\n",
              "1   1956  ...                      57.76\n",
              "2   1960  ...                      49.91\n",
              "3   1964  ...                      61.34\n",
              "4   1968  ...                      49.60\n",
              "5   1972  ...                      61.79\n",
              "6   1976  ...                      48.95\n",
              "7   1980  ...                      44.70\n",
              "8   1984  ...                      59.17\n",
              "9   1988  ...                      53.94\n",
              "10  1992  ...                      46.55\n",
              "11  1996  ...                      54.74\n",
              "12  2000  ...                      50.27\n",
              "13  2004  ...                      51.24\n",
              "14  2008  ...                      46.32\n",
              "15  2012  ...                      52.00\n",
              "16  2016  ...                      48.20\n",
              "\n",
              "[17 rows x 6 columns]"
            ]
          },
          "metadata": {
            "tags": []
          },
          "execution_count": 2
        }
      ]
    },
    {
      "cell_type": "code",
      "metadata": {
        "id": "0Ymoow6TRsns",
        "colab_type": "code",
        "colab": {
          "base_uri": "https://localhost:8080/",
          "height": 35
        },
        "outputId": "3738a357-b404-4a38-b14f-d6dd7c0c3449"
      },
      "source": [
        "# Your code here\n",
        "df.shape"
      ],
      "execution_count": 3,
      "outputs": [
        {
          "output_type": "execute_result",
          "data": {
            "text/plain": [
              "(17, 6)"
            ]
          },
          "metadata": {
            "tags": []
          },
          "execution_count": 3
        }
      ]
    },
    {
      "cell_type": "code",
      "metadata": {
        "id": "Pz5m-kJgHQS9",
        "colab_type": "code",
        "colab": {
          "base_uri": "https://localhost:8080/",
          "height": 243
        },
        "outputId": "d8bf12d8-2daf-476c-e67a-f6873c882ef4"
      },
      "source": [
        "df.info()"
      ],
      "execution_count": 4,
      "outputs": [
        {
          "output_type": "stream",
          "text": [
            "<class 'pandas.core.frame.DataFrame'>\n",
            "RangeIndex: 17 entries, 0 to 16\n",
            "Data columns (total 6 columns):\n",
            " #   Column                                     Non-Null Count  Dtype  \n",
            "---  ------                                     --------------  -----  \n",
            " 0   Year                                       17 non-null     int64  \n",
            " 1   Incumbent Party Candidate                  17 non-null     object \n",
            " 2   Other Candidate                            17 non-null     object \n",
            " 3   Average Recent Growth in Personal Incomes  17 non-null     float64\n",
            " 4   US Military Fatalities per Million         17 non-null     int64  \n",
            " 5   Incumbent Party Vote Share                 17 non-null     float64\n",
            "dtypes: float64(2), int64(2), object(2)\n",
            "memory usage: 944.0+ bytes\n"
          ],
          "name": "stdout"
        }
      ]
    },
    {
      "cell_type": "code",
      "metadata": {
        "id": "-EDW255TH1a2",
        "colab_type": "code",
        "colab": {
          "base_uri": "https://localhost:8080/",
          "height": 139
        },
        "outputId": "490877d4-0ccb-4c19-977c-ea1d349ec914"
      },
      "source": [
        "df.isnull().sum()"
      ],
      "execution_count": 6,
      "outputs": [
        {
          "output_type": "execute_result",
          "data": {
            "text/plain": [
              "Year                                         0\n",
              "Incumbent Party Candidate                    0\n",
              "Other Candidate                              0\n",
              "Average Recent Growth in Personal Incomes    0\n",
              "US Military Fatalities per Million           0\n",
              "Incumbent Party Vote Share                   0\n",
              "dtype: int64"
            ]
          },
          "metadata": {
            "tags": []
          },
          "execution_count": 6
        }
      ]
    },
    {
      "cell_type": "code",
      "metadata": {
        "id": "ESXiZ7rvIEgr",
        "colab_type": "code",
        "colab": {
          "base_uri": "https://localhost:8080/",
          "height": 139
        },
        "outputId": "9e625570-e99f-4653-bef9-5426737841cd"
      },
      "source": [
        "df.dtypes"
      ],
      "execution_count": 7,
      "outputs": [
        {
          "output_type": "execute_result",
          "data": {
            "text/plain": [
              "Year                                           int64\n",
              "Incumbent Party Candidate                     object\n",
              "Other Candidate                               object\n",
              "Average Recent Growth in Personal Incomes    float64\n",
              "US Military Fatalities per Million             int64\n",
              "Incumbent Party Vote Share                   float64\n",
              "dtype: object"
            ]
          },
          "metadata": {
            "tags": []
          },
          "execution_count": 7
        }
      ]
    }
  ]
}